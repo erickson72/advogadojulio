{
  "nbformat": 4,
  "nbformat_minor": 0,
  "metadata": {
    "colab": {
      "provenance": [],
      "authorship_tag": "ABX9TyPGqHCqcWlLkxLKTMh9SmbE",
      "include_colab_link": true
    },
    "kernelspec": {
      "name": "python3",
      "display_name": "Python 3"
    },
    "language_info": {
      "name": "python"
    }
  },
  "cells": [
    {
      "cell_type": "markdown",
      "metadata": {
        "id": "view-in-github",
        "colab_type": "text"
      },
      "source": [
        "<a href=\"https://colab.research.google.com/github/erickson72/advogadojulio/blob/main/Exerc%C3%ADcio_Erik.ipynb\" target=\"_parent\"><img src=\"https://colab.research.google.com/assets/colab-badge.svg\" alt=\"Open In Colab\"/></a>"
      ]
    },
    {
      "cell_type": "code",
      "execution_count": 8,
      "metadata": {
        "colab": {
          "base_uri": "https://localhost:8080/"
        },
        "id": "aqQMwXLVRzn7",
        "outputId": "551567d1-4d1a-4d49-8bd1-c344e61725a1"
      },
      "outputs": [
        {
          "output_type": "stream",
          "name": "stdout",
          "text": [
            "{'nome': 'Erickson Mendonça', 'Idade': 33, 'Profissão': 'Web Developer', 'Nacionalidade': 'Bissau-guineense', 'Residência': 'Brasil', 'Escolaridade': 'Mestrando em Computação', 'Instituição': 'UFU'}\n"
          ]
        }
      ],
      "source": [
        "meu_dicionário={'nome':\"Erickson Mendonça\", 'Idade': 33, 'Profissão':\"Web Developer\", 'Nacionalidade':\"Bissau-guineense\", 'Residência':\"Brasil\", 'Escolaridade':\"Mestrando em Computação\", 'Instituição':\"UFU\"}\n",
        "print(meu_dicionário)"
      ]
    },
    {
      "cell_type": "code",
      "source": [
        "Idade = meu_dicionário['Idade']\n",
        "print(Idade)"
      ],
      "metadata": {
        "colab": {
          "base_uri": "https://localhost:8080/"
        },
        "id": "akWd7GzVUR8G",
        "outputId": "802428e0-a589-46e8-beb2-b13ea5e07dce"
      },
      "execution_count": 9,
      "outputs": [
        {
          "output_type": "stream",
          "name": "stdout",
          "text": [
            "33\n"
          ]
        }
      ]
    },
    {
      "cell_type": "code",
      "source": [
        "Ano= int(input(\"Que ano você nasceu?\"))\n",
        "Idade= 2025-Ano\n",
        "if Idade >= 18:\n",
        "    print(\"Você é maior de idade\")\n",
        "else:\n",
        "    print(\"Você é menor de idade\")"
      ],
      "metadata": {
        "colab": {
          "base_uri": "https://localhost:8080/"
        },
        "id": "leccZiwgWyCs",
        "outputId": "48c41d7b-11be-4deb-e600-92de8ef751db"
      },
      "execution_count": 23,
      "outputs": [
        {
          "output_type": "stream",
          "name": "stdout",
          "text": [
            "Que ano você nasceu?1991\n",
            "Você é maior de idade\n"
          ]
        }
      ]
    },
    {
      "cell_type": "code",
      "source": [
        "nome=input(\"Qual é o seu nome?\")\n"
      ],
      "metadata": {
        "colab": {
          "base_uri": "https://localhost:8080/"
        },
        "id": "833meXymYpiK",
        "outputId": "ab9d2d9f-09bd-4120-dbea-d8ec66a0ae28"
      },
      "execution_count": 24,
      "outputs": [
        {
          "name": "stdout",
          "output_type": "stream",
          "text": [
            "Qual é o seu nome?Goran Erickson\n"
          ]
        }
      ]
    },
    {
      "cell_type": "code",
      "source": [
        "print(nome)"
      ],
      "metadata": {
        "colab": {
          "base_uri": "https://localhost:8080/"
        },
        "id": "RUn1RXk8ZGjX",
        "outputId": "9b8e86e4-ee07-43bb-d110-0e337314faa3"
      },
      "execution_count": 25,
      "outputs": [
        {
          "output_type": "stream",
          "name": "stdout",
          "text": [
            "Goran Erickson\n"
          ]
        }
      ]
    },
    {
      "cell_type": "code",
      "source": [
        "Ano=int(input(\"Que ano você nasceu?\"))"
      ],
      "metadata": {
        "colab": {
          "base_uri": "https://localhost:8080/"
        },
        "id": "aACYcx-rZheT",
        "outputId": "0a14ab9c-ac42-425c-f289-5d94a0551395"
      },
      "execution_count": 29,
      "outputs": [
        {
          "name": "stdout",
          "output_type": "stream",
          "text": [
            "Que ano você nasceu?1991\n"
          ]
        }
      ]
    },
    {
      "cell_type": "code",
      "source": [
        "print(Ano)"
      ],
      "metadata": {
        "colab": {
          "base_uri": "https://localhost:8080/"
        },
        "id": "jA2KIT_3Zx3P",
        "outputId": "4d7f13fa-4207-4a9f-8585-c3c720da0bdc"
      },
      "execution_count": 30,
      "outputs": [
        {
          "output_type": "stream",
          "name": "stdout",
          "text": [
            "1991\n"
          ]
        }
      ]
    },
    {
      "cell_type": "code",
      "source": [
        "idade=int(input(\"Qual é a sua idade?\"))"
      ],
      "metadata": {
        "colab": {
          "base_uri": "https://localhost:8080/"
        },
        "id": "FJZ2wZryZMHX",
        "outputId": "fba56963-cffb-4e72-ce6e-9ee5710bc567"
      },
      "execution_count": 26,
      "outputs": [
        {
          "name": "stdout",
          "output_type": "stream",
          "text": [
            "Qual é a sua idade?33\n"
          ]
        }
      ]
    },
    {
      "cell_type": "code",
      "source": [
        "print(idade)"
      ],
      "metadata": {
        "colab": {
          "base_uri": "https://localhost:8080/"
        },
        "id": "JbBUMfQqZZmw",
        "outputId": "523df431-92fa-431c-859f-fccbba5b9197"
      },
      "execution_count": 27,
      "outputs": [
        {
          "output_type": "stream",
          "name": "stdout",
          "text": [
            "33\n"
          ]
        }
      ]
    }
  ]
}